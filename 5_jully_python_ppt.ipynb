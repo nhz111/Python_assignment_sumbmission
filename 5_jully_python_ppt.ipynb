{
  "nbformat": 4,
  "nbformat_minor": 0,
  "metadata": {
    "colab": {
      "provenance": []
    },
    "kernelspec": {
      "name": "python3",
      "display_name": "Python 3"
    },
    "language_info": {
      "name": "python"
    }
  },
  "cells": [
    {
      "cell_type": "code",
      "execution_count": 3,
      "metadata": {
        "id": "ghicfegDEJcK",
        "colab": {
          "base_uri": "https://localhost:8080/"
        },
        "outputId": "98d3ce51-52fd-417e-b0cc-21456882993a"
      },
      "outputs": [
        {
          "output_type": "stream",
          "name": "stdout",
          "text": [
            "The sorted string are matching anagrams\n"
          ]
        }
      ],
      "source": [
        "# Q.1 Write a Pyhon program to check if a given string is an anagram\n",
        "\n",
        "a = \"BLUE\"\n",
        "b = \"LBUE\"\n",
        "\n",
        "#convert string to lower case for ignore case sensitivity.\n",
        "\n",
        "a= a.lower()\n",
        "b= b.lower()\n",
        "\n",
        "#check if the sorted character of the two strings are equal.\n",
        "\n",
        "if sorted(a)== sorted(b):\n",
        "  print(\"The sorted string are matching anagrams\")\n",
        "\n",
        "else:\n",
        "  print(\"The string are not mathcing anagrams\")\n",
        "\n",
        "# note: An anagram is a word or phrase formed by rearranging the letters of\n",
        "# another word or phrase. In other words, if the letters of one word can be\n",
        "# rearranged to form another word, they are considered anagrams. above example\n",
        "# sufficient for \"blue\" and \"lbue\" from \"lbue\" can form word \"blue\" so that's why\n",
        "# given string is anagram.\n"
      ]
    },
    {
      "cell_type": "code",
      "source": [
        "# Q.2 Write a Python program to find the maximum and minimum values in a dictionary\n",
        "\n",
        "def find_max_min_values(dictionary):\n",
        "\n",
        "    # Find the maximum value and corresponding key\n",
        "\n",
        "    max_value = max(dictionary, key=dictionary.get)\n",
        "\n",
        "    # Find the minimum value and corresponding key\n",
        "\n",
        "    min_value = min(dictionary, key=dictionary.get)\n",
        "\n",
        "    return max_value, min_value\n",
        "\n",
        "\n",
        "# Test the function\n",
        "\n",
        "my_dict = {\"A\": 10, \"B\": 5, \"C\": 15, \"D\": 3, \"E\": 20}\n",
        "\n",
        "max_value, min_value = find_max_min_values(my_dict)\n",
        "\n",
        "print(\"Maximum value:\", max_value)\n",
        "print(\"Minimum value:\", min_value)\n",
        "\n",
        "# note:- max() function to find the maximum value in the dictionary.\n",
        "#  The key parameter is set to dictionary.get, which specifies that the\n",
        "#  comparison should be based on the values of the dictionary. and similar\n",
        "#  for min() function find the min value.\n"
      ],
      "metadata": {
        "colab": {
          "base_uri": "https://localhost:8080/"
        },
        "id": "s_WV0sxpp0Qs",
        "outputId": "a1e140a1-e31d-4058-d973-835ead46c972"
      },
      "execution_count": 4,
      "outputs": [
        {
          "output_type": "stream",
          "name": "stdout",
          "text": [
            "Maximum value: E\n",
            "Minimum value: D\n"
          ]
        }
      ]
    },
    {
      "cell_type": "code",
      "source": [
        "# Q.3 Write a Python program to find the average of a list of numbers\n",
        "\n",
        "def calculate_average(numbers):\n",
        "    if len(numbers) == 0:\n",
        "        return None  # Return None for an empty list\n",
        "\n",
        "    total = sum(numbers)\n",
        "    average = total / len(numbers)\n",
        "    return average\n",
        "\n",
        "\n",
        "# Test the function\n",
        "number_list = [2, 4, 6, 8, 10]\n",
        "\n",
        "avg = calculate_average(number_list)\n",
        "\n",
        "if avg is None:\n",
        "    print(\"The list is empty.\")\n",
        "else:\n",
        "    print(\"Average:\", avg)\n",
        "\n",
        "\n",
        "# Note:- here we define function calculate_average and it if check length of the\n",
        "# numbers is zero and if list is empty return none and other is simple math\n",
        "# formula we have to first we need to additon of all elements in list or do some\n",
        "# of number and put in the varible total next assing average varible asign simple\n",
        "# math formula for ruturning the averge.\n",
        "\n"
      ],
      "metadata": {
        "colab": {
          "base_uri": "https://localhost:8080/"
        },
        "id": "GyrkWo7DseBV",
        "outputId": "54fa44ac-d5bf-4fd9-b96b-aeda600286d9"
      },
      "execution_count": 7,
      "outputs": [
        {
          "output_type": "stream",
          "name": "stdout",
          "text": [
            "Average: 6.0\n"
          ]
        }
      ]
    },
    {
      "cell_type": "code",
      "source": [],
      "metadata": {
        "id": "IsXqINr6zqiw"
      },
      "execution_count": null,
      "outputs": []
    },
    {
      "cell_type": "code",
      "source": [
        "# Q.4 Write a Python program to remove all vowels from a string\n",
        "\n",
        "import string\n",
        "def remove_vowels(string):\n",
        "    vowels = \"aeiouAEIOU\"\n",
        "    result = \"\"\n",
        "\n",
        "    for char in string:\n",
        "        if char not in vowels:\n",
        "            result += char\n",
        "\n",
        "    return result\n",
        "\n",
        "\n",
        "# Test the function\n",
        "input_string = \"Hello, World!\"\n",
        "\n",
        "result_string = remove_vowels(input_string)\n",
        "\n",
        "print(\"String without vowels:\", result_string):\n",
        "\n",
        "# Note: here we define the function that remove_vowels and assigns the variabe\n",
        "#as vowels in the form of string and result is contains the empty string becasue\n",
        "# here compare the input string to the vowels. if the input string is not present\n",
        "#in vowels it's append the result as ouptput."
      ],
      "metadata": {
        "outputId": "3305e6c9-fe0d-4501-8ce0-dca91b492d15",
        "colab": {
          "base_uri": "https://localhost:8080/"
        },
        "id": "N4LeASW7z0NT"
      },
      "execution_count": null,
      "outputs": [
        {
          "output_type": "stream",
          "name": "stdout",
          "text": [
            "String without vowels: Hll, Wrld!\n"
          ]
        }
      ]
    },
    {
      "cell_type": "code",
      "source": [
        "# Q.5 Write a Python function to calculate the factorial of a number using recursion\n",
        "\n",
        "def factorial_recursive(n):\n",
        "    if n == 0:\n",
        "        return 1\n",
        "    else:\n",
        "        return n * factorial_recursive(n - 1)\n",
        "\n",
        "\n",
        "# Test the function\n",
        "number = int(input(\"Enter a non-negative integer: \"))\n",
        "\n",
        "if number < 0:\n",
        "    print(\"Factorial is not defined for negative numbers.\")\n",
        "else:\n",
        "    result = factorial_recursive(number)\n",
        "    print(\"Factorial of\", number, \"is\", result)\n",
        "\n",
        "# note : take input as a non negative integer\n",
        "# a recursive approach means that the function calls itself with a smaller input\n",
        "# gradually reducing the problem until it reaches the base case. The base case\n",
        "# is a condition that allows the function to exit the recursion and return a\n",
        "# specific value without further recursive calls.\n",
        "# The function checks if the input n is equal to 0. If it is, it returns 1,\n",
        "# which is the factorial of 0 and serves as the base case for the recursion.\n",
        "# If n is not 0, the function calls itself with the argument n - 1 and multiplies\n",
        "# the result by n. This recursive call breaks down the factorial calculation into\n",
        "# a smaller subproblem."
      ],
      "metadata": {
        "colab": {
          "base_uri": "https://localhost:8080/"
        },
        "id": "xTtkvduKzRg1",
        "outputId": "053cdae4-40c3-4205-b182-28295df75c27"
      },
      "execution_count": 12,
      "outputs": [
        {
          "output_type": "stream",
          "name": "stdout",
          "text": [
            "Enter a non-negative integer: 5\n",
            "Factorial of 5 is 120\n"
          ]
        }
      ]
    },
    {
      "cell_type": "code",
      "source": [
        "# Q.6 Write a Python program to merge two unsorted lists into a single sorted list\n",
        "#using the merge sort algorithm.\n",
        "\n",
        "def merge_sorted_list(list_1,list_2):\n",
        "  merged_list= sorted(list_1 + list_2)\n",
        "  return merged_list\n",
        "\n",
        "# test function\n",
        "\n",
        "list_1 = [1,3,5,7]\n",
        "list_2 = [2,4,6,8]\n",
        "\n",
        "print(merge_sorted_list(list_1,list_2))\n",
        "\n"
      ],
      "metadata": {
        "colab": {
          "base_uri": "https://localhost:8080/"
        },
        "id": "SxtiEkby6JH5",
        "outputId": "d12c1283-77b0-4567-a860-533bc910f3eb"
      },
      "execution_count": 13,
      "outputs": [
        {
          "output_type": "stream",
          "name": "stdout",
          "text": [
            "[1, 2, 3, 4, 5, 6, 7, 8]\n"
          ]
        }
      ]
    },
    {
      "cell_type": "code",
      "source": [
        "# Q.7 Write a Python program to find the GCD (Greatest Common Divisor) of two numbers\n",
        "\n",
        "def gcd(a, b):\n",
        "    while b != 0:\n",
        "        a, b = b, a % b\n",
        "    return a\n",
        "\n",
        "\n",
        "# Test the function\n",
        "number1 = 36\n",
        "number2 = 48\n",
        "\n",
        "result = gcd(number1, number2)\n",
        "\n",
        "print(\"GCD of\", number1, \"and\", number2, \"is\", result)\n",
        "\n",
        "# Note:In this program,the gcd() function takes two numbers a and b as input and\n",
        "# returns their GCD using the Euclidean algorithm. The algorithm performs the\n",
        "# following steps:\n",
        "#In the while loop, the algorithm repeatedly divides a by b and assigns the\n",
        "# remainder to a, and assigns the previous value of b to b.\n",
        "#The loop continues until b becomes 0, at which point a will be the GCD of\n",
        "#the original two numbers.\n"
      ],
      "metadata": {
        "colab": {
          "base_uri": "https://localhost:8080/"
        },
        "id": "5yUd7rLE9Ewu",
        "outputId": "41068cd5-1725-4cba-b88e-830998dbf470"
      },
      "execution_count": 14,
      "outputs": [
        {
          "output_type": "stream",
          "name": "stdout",
          "text": [
            "GCD of 36 and 48 is 12\n"
          ]
        }
      ]
    },
    {
      "cell_type": "code",
      "source": [],
      "metadata": {
        "id": "E8Vy2yqdBQpL"
      },
      "execution_count": null,
      "outputs": []
    },
    {
      "cell_type": "code",
      "source": [
        "# Q.8 Write a Python program to find the second-largest element in a list\n",
        "\n",
        "def find_second_largest(nums):\n",
        "    first = second = float('-inf')\n",
        "    for num in nums:\n",
        "        if num > first:\n",
        "            second = first\n",
        "            first = num\n",
        "        elif num > second and num < first:\n",
        "            second = num\n",
        "    return second\n",
        "\n",
        "# test\n",
        "numbers = [10, 5, 8, 20, 15]\n",
        "print(find_second_largest(numbers))\n",
        "\n",
        "#note:-\n",
        "#This program finds the second-largest element in the list by iterating through\n",
        "#the numbers in the list. It uses two variables, first and second, to keep track\n",
        "#of the first and second largest elements. The program compares each number in\n",
        "#the list with first and second and updates them accordingly.\n"
      ],
      "metadata": {
        "id": "KnjE84gt_Skv",
        "outputId": "325d7c23-3cd3-4613-da9a-395c20d8e96c",
        "colab": {
          "base_uri": "https://localhost:8080/"
        }
      },
      "execution_count": 18,
      "outputs": [
        {
          "output_type": "stream",
          "name": "stdout",
          "text": [
            "15\n"
          ]
        }
      ]
    },
    {
      "cell_type": "code",
      "source": [
        "# Q.9 Write a Python program to find the longest common subsequence between two\n",
        "# strings using dynamic programming.\n",
        "\n",
        "def find_lcs(str1, str2):\n",
        "    m = len(str1)\n",
        "    n = len(str2)\n",
        "\n",
        "    # Create a table to store the lengths of LCS for subproblems\n",
        "    dp = [[0] * (n + 1) for _ in range(m + 1)]\n",
        "\n",
        "    # Fill the table using bottom-up dynamic programming approach\n",
        "    for i in range(1, m + 1):\n",
        "        for j in range(1, n + 1):\n",
        "            if str1[i - 1] == str2[j - 1]:\n",
        "                dp[i][j] = dp[i - 1][j - 1] + 1\n",
        "            else:\n",
        "                dp[i][j] = max(dp[i - 1][j], dp[i][j - 1])\n",
        "\n",
        "    # Construct the LCS string by backtracking through the table\n",
        "    lcs = \"\"\n",
        "    i = m\n",
        "    j = n\n",
        "    while i > 0 and j > 0:\n",
        "        if str1[i - 1] == str2[j - 1]:\n",
        "            lcs = str1[i - 1] + lcs\n",
        "            i -= 1\n",
        "            j -= 1\n",
        "        elif dp[i - 1][j] > dp[i][j - 1]:\n",
        "            i -= 1\n",
        "        else:\n",
        "            j -= 1\n",
        "\n",
        "    return lcs\n",
        "\n",
        "\n",
        "# Test the function\n",
        "string1 = \"ABCDGH\"\n",
        "string2 = \"AEDFHR\"\n",
        "\n",
        "lcs = find_lcs(string1, string2)\n",
        "\n",
        "print(\"Longest Common Subsequence:\", lcs)\n",
        "\n",
        "#note:- Dynamic programming is a technique used in computer programming and\n",
        "#algorithm design to efficiently solve complex problems by breaking them down\n",
        "#into overlapping subproblems and storing the results of those subproblems for\n",
        "#reuse. It is particularly useful for solving optimization problems.\n",
        "#The key idea behind dynamic programming is to solve each subproblem only once\n",
        "#and store its solution in a table (usually an array or a matrix) for future\n",
        "#reference. By doing so, the algorithm avoids redundant computations and reduces\n",
        "#the overall time complexity."
      ],
      "metadata": {
        "id": "z-sEjQ59B1K4"
      },
      "execution_count": null,
      "outputs": []
    }
  ]
}